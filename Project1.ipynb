{
 "cells": [
  {
   "cell_type": "markdown",
   "source": [
    "# PROYECTO 1\n",
    " * Guido Margiotta\n",
    " * Juan Morales\n",
    "\n",
    "## Importando librerias"
   ],
   "metadata": {
    "collapsed": false,
    "pycharm": {
     "name": "#%% md\n"
    }
   }
  },
  {
   "cell_type": "code",
   "execution_count": 41,
   "metadata": {
    "collapsed": true
   },
   "outputs": [],
   "source": [
    "import numpy as np\n",
    "import pandas as pd\n",
    "import matplotlib as mlt\n",
    "import matplotlib.pyplot as plt\n",
    "import xlrd\n",
    "%matplotlib inline"
   ]
  },
  {
   "cell_type": "markdown",
   "source": [
    "## Obteniendo datos Argentina:\n",
    "    * Base de datos de inflación mensual por sectores\n",
    "    * Base de datos de inflación anual por sectores\n",
    "    * Creación de MultiIndex (Año, Mes)\n",
    "    * Tasas de intervención\n"
   ],
   "metadata": {
    "collapsed": false,
    "pycharm": {
     "name": "#%% md\n"
    }
   }
  },
  {
   "cell_type": "code",
   "execution_count": 42,
   "outputs": [
    {
     "data": {
      "text/plain": "    Año      Mes  nivel_general_mensual  alimentos_bebidas_no_alc_mensual  \\\n0  2017    Enero                    1.6                               1.3   \n1  2017  Febrero                    2.1                               1.8   \n2  2017    Marzo                    2.4                               2.8   \n3  2017    Abril                    2.7                               2.2   \n4  2017     Mayo                    1.4                               1.3   \n\n   alcohol_tabaco_mensual  vestimenta_mensual  vivienda_mensual  \\\n0                     0.9                -1.0               1.5   \n1                     4.3                -0.2               5.4   \n2                     1.9                 3.4               3.6   \n3                     2.4                 4.5               5.9   \n4                     1.7                 1.7               1.8   \n\n   hogar_mensual  salud_mensual  transporte_mensual  comunicación_mensual  \\\n0            0.9            2.4                 2.1                   3.1   \n1            0.4            2.7                 1.9                   4.1   \n2            0.8            2.0                 1.2                   3.2   \n3            1.1            1.8                 0.6                   6.8   \n4            2.8            1.5                 0.9                   0.3   \n\n   recreacion_mensual  educacion_mensual  restaurantes_hoteles_mensual  \\\n0                 3.2                0.8                           3.1   \n1                 0.6                3.2                           1.7   \n2                 1.7               10.9                           1.0   \n3                 2.6                2.9                           1.9   \n4                 0.7                1.7                           1.5   \n\n   bienes_servicios_varios_mensual  \n0                              1.9  \n1                              1.8  \n2                              1.8  \n3                              1.8  \n4                              1.3  ",
      "text/html": "<div>\n<style scoped>\n    .dataframe tbody tr th:only-of-type {\n        vertical-align: middle;\n    }\n\n    .dataframe tbody tr th {\n        vertical-align: top;\n    }\n\n    .dataframe thead th {\n        text-align: right;\n    }\n</style>\n<table border=\"1\" class=\"dataframe\">\n  <thead>\n    <tr style=\"text-align: right;\">\n      <th></th>\n      <th>Año</th>\n      <th>Mes</th>\n      <th>nivel_general_mensual</th>\n      <th>alimentos_bebidas_no_alc_mensual</th>\n      <th>alcohol_tabaco_mensual</th>\n      <th>vestimenta_mensual</th>\n      <th>vivienda_mensual</th>\n      <th>hogar_mensual</th>\n      <th>salud_mensual</th>\n      <th>transporte_mensual</th>\n      <th>comunicación_mensual</th>\n      <th>recreacion_mensual</th>\n      <th>educacion_mensual</th>\n      <th>restaurantes_hoteles_mensual</th>\n      <th>bienes_servicios_varios_mensual</th>\n    </tr>\n  </thead>\n  <tbody>\n    <tr>\n      <th>0</th>\n      <td>2017</td>\n      <td>Enero</td>\n      <td>1.6</td>\n      <td>1.3</td>\n      <td>0.9</td>\n      <td>-1.0</td>\n      <td>1.5</td>\n      <td>0.9</td>\n      <td>2.4</td>\n      <td>2.1</td>\n      <td>3.1</td>\n      <td>3.2</td>\n      <td>0.8</td>\n      <td>3.1</td>\n      <td>1.9</td>\n    </tr>\n    <tr>\n      <th>1</th>\n      <td>2017</td>\n      <td>Febrero</td>\n      <td>2.1</td>\n      <td>1.8</td>\n      <td>4.3</td>\n      <td>-0.2</td>\n      <td>5.4</td>\n      <td>0.4</td>\n      <td>2.7</td>\n      <td>1.9</td>\n      <td>4.1</td>\n      <td>0.6</td>\n      <td>3.2</td>\n      <td>1.7</td>\n      <td>1.8</td>\n    </tr>\n    <tr>\n      <th>2</th>\n      <td>2017</td>\n      <td>Marzo</td>\n      <td>2.4</td>\n      <td>2.8</td>\n      <td>1.9</td>\n      <td>3.4</td>\n      <td>3.6</td>\n      <td>0.8</td>\n      <td>2.0</td>\n      <td>1.2</td>\n      <td>3.2</td>\n      <td>1.7</td>\n      <td>10.9</td>\n      <td>1.0</td>\n      <td>1.8</td>\n    </tr>\n    <tr>\n      <th>3</th>\n      <td>2017</td>\n      <td>Abril</td>\n      <td>2.7</td>\n      <td>2.2</td>\n      <td>2.4</td>\n      <td>4.5</td>\n      <td>5.9</td>\n      <td>1.1</td>\n      <td>1.8</td>\n      <td>0.6</td>\n      <td>6.8</td>\n      <td>2.6</td>\n      <td>2.9</td>\n      <td>1.9</td>\n      <td>1.8</td>\n    </tr>\n    <tr>\n      <th>4</th>\n      <td>2017</td>\n      <td>Mayo</td>\n      <td>1.4</td>\n      <td>1.3</td>\n      <td>1.7</td>\n      <td>1.7</td>\n      <td>1.8</td>\n      <td>2.8</td>\n      <td>1.5</td>\n      <td>0.9</td>\n      <td>0.3</td>\n      <td>0.7</td>\n      <td>1.7</td>\n      <td>1.5</td>\n      <td>1.3</td>\n    </tr>\n  </tbody>\n</table>\n</div>"
     },
     "execution_count": 42,
     "metadata": {},
     "output_type": "execute_result"
    }
   ],
   "source": [
    "inflacion_arg_men = pd.read_excel(\"Inflación Argentina.xlsx\",sheet_name = \"Inflacion mensual por sector\")\n",
    "inflacion_arg_men.head()"
   ],
   "metadata": {
    "collapsed": false,
    "pycharm": {
     "name": "#%%\n"
    }
   }
  },
  {
   "cell_type": "code",
   "execution_count": 43,
   "outputs": [],
   "source": [
    "index = list(zip(inflacion_arg_men[\"Año\"],inflacion_arg_men[\"Mes\"]))\n",
    "index = pd.MultiIndex.from_tuples(index)"
   ],
   "metadata": {
    "collapsed": false,
    "pycharm": {
     "name": "#%%\n"
    }
   }
  },
  {
   "cell_type": "code",
   "execution_count": 44,
   "outputs": [],
   "source": [
    "inflacion_arg_men.set_index(index,inplace = True)\n",
    "inflacion_arg_men.drop([\"Año\", \"Mes\"], axis = 1, inplace = True)"
   ],
   "metadata": {
    "collapsed": false,
    "pycharm": {
     "name": "#%%\n"
    }
   }
  },
  {
   "cell_type": "code",
   "execution_count": 45,
   "outputs": [
    {
     "data": {
      "text/plain": "              nivel_general_mensual  alimentos_bebidas_no_alc_mensual  \\\n2017 Enero                      1.6                               1.3   \n     Febrero                    2.1                               1.8   \n     Marzo                      2.4                               2.8   \n     Abril                      2.7                               2.2   \n     Mayo                       1.4                               1.3   \n\n              alcohol_tabaco_mensual  vestimenta_mensual  vivienda_mensual  \\\n2017 Enero                       0.9                -1.0               1.5   \n     Febrero                     4.3                -0.2               5.4   \n     Marzo                       1.9                 3.4               3.6   \n     Abril                       2.4                 4.5               5.9   \n     Mayo                        1.7                 1.7               1.8   \n\n              hogar_mensual  salud_mensual  transporte_mensual  \\\n2017 Enero              0.9            2.4                 2.1   \n     Febrero            0.4            2.7                 1.9   \n     Marzo              0.8            2.0                 1.2   \n     Abril              1.1            1.8                 0.6   \n     Mayo               2.8            1.5                 0.9   \n\n              comunicación_mensual  recreacion_mensual  educacion_mensual  \\\n2017 Enero                     3.1                 3.2                0.8   \n     Febrero                   4.1                 0.6                3.2   \n     Marzo                     3.2                 1.7               10.9   \n     Abril                     6.8                 2.6                2.9   \n     Mayo                      0.3                 0.7                1.7   \n\n              restaurantes_hoteles_mensual  bienes_servicios_varios_mensual  \n2017 Enero                             3.1                              1.9  \n     Febrero                           1.7                              1.8  \n     Marzo                             1.0                              1.8  \n     Abril                             1.9                              1.8  \n     Mayo                              1.5                              1.3  ",
      "text/html": "<div>\n<style scoped>\n    .dataframe tbody tr th:only-of-type {\n        vertical-align: middle;\n    }\n\n    .dataframe tbody tr th {\n        vertical-align: top;\n    }\n\n    .dataframe thead th {\n        text-align: right;\n    }\n</style>\n<table border=\"1\" class=\"dataframe\">\n  <thead>\n    <tr style=\"text-align: right;\">\n      <th></th>\n      <th></th>\n      <th>nivel_general_mensual</th>\n      <th>alimentos_bebidas_no_alc_mensual</th>\n      <th>alcohol_tabaco_mensual</th>\n      <th>vestimenta_mensual</th>\n      <th>vivienda_mensual</th>\n      <th>hogar_mensual</th>\n      <th>salud_mensual</th>\n      <th>transporte_mensual</th>\n      <th>comunicación_mensual</th>\n      <th>recreacion_mensual</th>\n      <th>educacion_mensual</th>\n      <th>restaurantes_hoteles_mensual</th>\n      <th>bienes_servicios_varios_mensual</th>\n    </tr>\n  </thead>\n  <tbody>\n    <tr>\n      <th rowspan=\"5\" valign=\"top\">2017</th>\n      <th>Enero</th>\n      <td>1.6</td>\n      <td>1.3</td>\n      <td>0.9</td>\n      <td>-1.0</td>\n      <td>1.5</td>\n      <td>0.9</td>\n      <td>2.4</td>\n      <td>2.1</td>\n      <td>3.1</td>\n      <td>3.2</td>\n      <td>0.8</td>\n      <td>3.1</td>\n      <td>1.9</td>\n    </tr>\n    <tr>\n      <th>Febrero</th>\n      <td>2.1</td>\n      <td>1.8</td>\n      <td>4.3</td>\n      <td>-0.2</td>\n      <td>5.4</td>\n      <td>0.4</td>\n      <td>2.7</td>\n      <td>1.9</td>\n      <td>4.1</td>\n      <td>0.6</td>\n      <td>3.2</td>\n      <td>1.7</td>\n      <td>1.8</td>\n    </tr>\n    <tr>\n      <th>Marzo</th>\n      <td>2.4</td>\n      <td>2.8</td>\n      <td>1.9</td>\n      <td>3.4</td>\n      <td>3.6</td>\n      <td>0.8</td>\n      <td>2.0</td>\n      <td>1.2</td>\n      <td>3.2</td>\n      <td>1.7</td>\n      <td>10.9</td>\n      <td>1.0</td>\n      <td>1.8</td>\n    </tr>\n    <tr>\n      <th>Abril</th>\n      <td>2.7</td>\n      <td>2.2</td>\n      <td>2.4</td>\n      <td>4.5</td>\n      <td>5.9</td>\n      <td>1.1</td>\n      <td>1.8</td>\n      <td>0.6</td>\n      <td>6.8</td>\n      <td>2.6</td>\n      <td>2.9</td>\n      <td>1.9</td>\n      <td>1.8</td>\n    </tr>\n    <tr>\n      <th>Mayo</th>\n      <td>1.4</td>\n      <td>1.3</td>\n      <td>1.7</td>\n      <td>1.7</td>\n      <td>1.8</td>\n      <td>2.8</td>\n      <td>1.5</td>\n      <td>0.9</td>\n      <td>0.3</td>\n      <td>0.7</td>\n      <td>1.7</td>\n      <td>1.5</td>\n      <td>1.3</td>\n    </tr>\n  </tbody>\n</table>\n</div>"
     },
     "execution_count": 45,
     "metadata": {},
     "output_type": "execute_result"
    }
   ],
   "source": [
    "inflacion_arg_men.head()"
   ],
   "metadata": {
    "collapsed": false,
    "pycharm": {
     "name": "#%%\n"
    }
   }
  },
  {
   "cell_type": "code",
   "execution_count": 46,
   "outputs": [
    {
     "data": {
      "text/plain": "    Año        Mes  nivel_general_anual  alimentos_bebidas_anual  \\\n0  2017  Diciembre                 24.8                     20.4   \n1  2018      Enero                 25.0                     21.3   \n2  2018    Febrero                 25.4                     21.7   \n3  2018      Marzo                 25.4                     21.2   \n4  2018      Abril                 25.5                     19.9   \n\n   alcohol_tabaco_anual  vestimenta_anual  servicios_vivienda_anual  \\\n0                  23.7              16.6                      55.6   \n1                  25.4              16.9                      54.9   \n2                  22.3              16.4                      52.5   \n3                  20.8              17.4                      48.0   \n4                  19.5              16.9                      51.0   \n\n   hogar_anual  salud_anual  transporte_anual  comunicacion_anual  \\\n0         17.4         27.8              20.6                34.1   \n1         17.6         27.1              20.7                32.6   \n2         19.1         26.6              23.8                39.0   \n3         23.5         25.8              24.6                38.4   \n4         23.7         25.8              28.8                30.9   \n\n   recreacion_anual  educacion_anual  restaurantes_hoteles_anual  \\\n0              22.8             31.5                        22.1   \n1              23.1             31.3                        21.9   \n2              23.6             29.7                        22.4   \n3              23.0             33.0                        23.3   \n4              22.2             30.3                        23.7   \n\n   bienes_servicios_varios_anual  \n0                           19.8  \n1                           20.4  \n2                           20.3  \n3                           20.4  \n4                           20.3  ",
      "text/html": "<div>\n<style scoped>\n    .dataframe tbody tr th:only-of-type {\n        vertical-align: middle;\n    }\n\n    .dataframe tbody tr th {\n        vertical-align: top;\n    }\n\n    .dataframe thead th {\n        text-align: right;\n    }\n</style>\n<table border=\"1\" class=\"dataframe\">\n  <thead>\n    <tr style=\"text-align: right;\">\n      <th></th>\n      <th>Año</th>\n      <th>Mes</th>\n      <th>nivel_general_anual</th>\n      <th>alimentos_bebidas_anual</th>\n      <th>alcohol_tabaco_anual</th>\n      <th>vestimenta_anual</th>\n      <th>servicios_vivienda_anual</th>\n      <th>hogar_anual</th>\n      <th>salud_anual</th>\n      <th>transporte_anual</th>\n      <th>comunicacion_anual</th>\n      <th>recreacion_anual</th>\n      <th>educacion_anual</th>\n      <th>restaurantes_hoteles_anual</th>\n      <th>bienes_servicios_varios_anual</th>\n    </tr>\n  </thead>\n  <tbody>\n    <tr>\n      <th>0</th>\n      <td>2017</td>\n      <td>Diciembre</td>\n      <td>24.8</td>\n      <td>20.4</td>\n      <td>23.7</td>\n      <td>16.6</td>\n      <td>55.6</td>\n      <td>17.4</td>\n      <td>27.8</td>\n      <td>20.6</td>\n      <td>34.1</td>\n      <td>22.8</td>\n      <td>31.5</td>\n      <td>22.1</td>\n      <td>19.8</td>\n    </tr>\n    <tr>\n      <th>1</th>\n      <td>2018</td>\n      <td>Enero</td>\n      <td>25.0</td>\n      <td>21.3</td>\n      <td>25.4</td>\n      <td>16.9</td>\n      <td>54.9</td>\n      <td>17.6</td>\n      <td>27.1</td>\n      <td>20.7</td>\n      <td>32.6</td>\n      <td>23.1</td>\n      <td>31.3</td>\n      <td>21.9</td>\n      <td>20.4</td>\n    </tr>\n    <tr>\n      <th>2</th>\n      <td>2018</td>\n      <td>Febrero</td>\n      <td>25.4</td>\n      <td>21.7</td>\n      <td>22.3</td>\n      <td>16.4</td>\n      <td>52.5</td>\n      <td>19.1</td>\n      <td>26.6</td>\n      <td>23.8</td>\n      <td>39.0</td>\n      <td>23.6</td>\n      <td>29.7</td>\n      <td>22.4</td>\n      <td>20.3</td>\n    </tr>\n    <tr>\n      <th>3</th>\n      <td>2018</td>\n      <td>Marzo</td>\n      <td>25.4</td>\n      <td>21.2</td>\n      <td>20.8</td>\n      <td>17.4</td>\n      <td>48.0</td>\n      <td>23.5</td>\n      <td>25.8</td>\n      <td>24.6</td>\n      <td>38.4</td>\n      <td>23.0</td>\n      <td>33.0</td>\n      <td>23.3</td>\n      <td>20.4</td>\n    </tr>\n    <tr>\n      <th>4</th>\n      <td>2018</td>\n      <td>Abril</td>\n      <td>25.5</td>\n      <td>19.9</td>\n      <td>19.5</td>\n      <td>16.9</td>\n      <td>51.0</td>\n      <td>23.7</td>\n      <td>25.8</td>\n      <td>28.8</td>\n      <td>30.9</td>\n      <td>22.2</td>\n      <td>30.3</td>\n      <td>23.7</td>\n      <td>20.3</td>\n    </tr>\n  </tbody>\n</table>\n</div>"
     },
     "execution_count": 46,
     "metadata": {},
     "output_type": "execute_result"
    }
   ],
   "source": [
    "inflacion_arg_anual = pd.read_excel(\"Inflación Argentina.xlsx\",sheet_name = \"Inflacion anual por sector\")\n",
    "inflacion_arg_anual.head()"
   ],
   "metadata": {
    "collapsed": false,
    "pycharm": {
     "name": "#%%\n"
    }
   }
  },
  {
   "cell_type": "code",
   "execution_count": 47,
   "outputs": [],
   "source": [
    "index = list(zip(inflacion_arg_anual[\"Año\"],inflacion_arg_anual[\"Mes\"]))\n",
    "index = pd.MultiIndex.from_tuples(index)"
   ],
   "metadata": {
    "collapsed": false,
    "pycharm": {
     "name": "#%%\n"
    }
   }
  },
  {
   "cell_type": "code",
   "execution_count": 48,
   "outputs": [
    {
     "data": {
      "text/plain": "                nivel_general_anual  alimentos_bebidas_anual  \\\n2017 Diciembre                 24.8                     20.4   \n2018 Enero                     25.0                     21.3   \n     Febrero                   25.4                     21.7   \n     Marzo                     25.4                     21.2   \n     Abril                     25.5                     19.9   \n\n                alcohol_tabaco_anual  vestimenta_anual  \\\n2017 Diciembre                  23.7              16.6   \n2018 Enero                      25.4              16.9   \n     Febrero                    22.3              16.4   \n     Marzo                      20.8              17.4   \n     Abril                      19.5              16.9   \n\n                servicios_vivienda_anual  hogar_anual  salud_anual  \\\n2017 Diciembre                      55.6         17.4         27.8   \n2018 Enero                          54.9         17.6         27.1   \n     Febrero                        52.5         19.1         26.6   \n     Marzo                          48.0         23.5         25.8   \n     Abril                          51.0         23.7         25.8   \n\n                transporte_anual  comunicacion_anual  recreacion_anual  \\\n2017 Diciembre              20.6                34.1              22.8   \n2018 Enero                  20.7                32.6              23.1   \n     Febrero                23.8                39.0              23.6   \n     Marzo                  24.6                38.4              23.0   \n     Abril                  28.8                30.9              22.2   \n\n                educacion_anual  restaurantes_hoteles_anual  \\\n2017 Diciembre             31.5                        22.1   \n2018 Enero                 31.3                        21.9   \n     Febrero               29.7                        22.4   \n     Marzo                 33.0                        23.3   \n     Abril                 30.3                        23.7   \n\n                bienes_servicios_varios_anual  \n2017 Diciembre                           19.8  \n2018 Enero                               20.4  \n     Febrero                             20.3  \n     Marzo                               20.4  \n     Abril                               20.3  ",
      "text/html": "<div>\n<style scoped>\n    .dataframe tbody tr th:only-of-type {\n        vertical-align: middle;\n    }\n\n    .dataframe tbody tr th {\n        vertical-align: top;\n    }\n\n    .dataframe thead th {\n        text-align: right;\n    }\n</style>\n<table border=\"1\" class=\"dataframe\">\n  <thead>\n    <tr style=\"text-align: right;\">\n      <th></th>\n      <th></th>\n      <th>nivel_general_anual</th>\n      <th>alimentos_bebidas_anual</th>\n      <th>alcohol_tabaco_anual</th>\n      <th>vestimenta_anual</th>\n      <th>servicios_vivienda_anual</th>\n      <th>hogar_anual</th>\n      <th>salud_anual</th>\n      <th>transporte_anual</th>\n      <th>comunicacion_anual</th>\n      <th>recreacion_anual</th>\n      <th>educacion_anual</th>\n      <th>restaurantes_hoteles_anual</th>\n      <th>bienes_servicios_varios_anual</th>\n    </tr>\n  </thead>\n  <tbody>\n    <tr>\n      <th>2017</th>\n      <th>Diciembre</th>\n      <td>24.8</td>\n      <td>20.4</td>\n      <td>23.7</td>\n      <td>16.6</td>\n      <td>55.6</td>\n      <td>17.4</td>\n      <td>27.8</td>\n      <td>20.6</td>\n      <td>34.1</td>\n      <td>22.8</td>\n      <td>31.5</td>\n      <td>22.1</td>\n      <td>19.8</td>\n    </tr>\n    <tr>\n      <th rowspan=\"4\" valign=\"top\">2018</th>\n      <th>Enero</th>\n      <td>25.0</td>\n      <td>21.3</td>\n      <td>25.4</td>\n      <td>16.9</td>\n      <td>54.9</td>\n      <td>17.6</td>\n      <td>27.1</td>\n      <td>20.7</td>\n      <td>32.6</td>\n      <td>23.1</td>\n      <td>31.3</td>\n      <td>21.9</td>\n      <td>20.4</td>\n    </tr>\n    <tr>\n      <th>Febrero</th>\n      <td>25.4</td>\n      <td>21.7</td>\n      <td>22.3</td>\n      <td>16.4</td>\n      <td>52.5</td>\n      <td>19.1</td>\n      <td>26.6</td>\n      <td>23.8</td>\n      <td>39.0</td>\n      <td>23.6</td>\n      <td>29.7</td>\n      <td>22.4</td>\n      <td>20.3</td>\n    </tr>\n    <tr>\n      <th>Marzo</th>\n      <td>25.4</td>\n      <td>21.2</td>\n      <td>20.8</td>\n      <td>17.4</td>\n      <td>48.0</td>\n      <td>23.5</td>\n      <td>25.8</td>\n      <td>24.6</td>\n      <td>38.4</td>\n      <td>23.0</td>\n      <td>33.0</td>\n      <td>23.3</td>\n      <td>20.4</td>\n    </tr>\n    <tr>\n      <th>Abril</th>\n      <td>25.5</td>\n      <td>19.9</td>\n      <td>19.5</td>\n      <td>16.9</td>\n      <td>51.0</td>\n      <td>23.7</td>\n      <td>25.8</td>\n      <td>28.8</td>\n      <td>30.9</td>\n      <td>22.2</td>\n      <td>30.3</td>\n      <td>23.7</td>\n      <td>20.3</td>\n    </tr>\n  </tbody>\n</table>\n</div>"
     },
     "execution_count": 48,
     "metadata": {},
     "output_type": "execute_result"
    }
   ],
   "source": [
    "inflacion_arg_anual.set_index(index, inplace=True)\n",
    "inflacion_arg_anual.drop([\"Año\", \"Mes\"], axis=1, inplace=True)\n",
    "inflacion_arg_anual.head()"
   ],
   "metadata": {
    "collapsed": false,
    "pycharm": {
     "name": "#%%\n"
    }
   }
  },
  {
   "cell_type": "code",
   "execution_count": 49,
   "outputs": [
    {
     "data": {
      "text/plain": "    Año      Mes  tasa_mensual\n0  2019    Enero     57.578677\n1  2019  Febrero     47.721964\n2  2019    Marzo     61.287355\n3  2019    Abril     68.316700\n4  2019     Mayo     71.924129",
      "text/html": "<div>\n<style scoped>\n    .dataframe tbody tr th:only-of-type {\n        vertical-align: middle;\n    }\n\n    .dataframe tbody tr th {\n        vertical-align: top;\n    }\n\n    .dataframe thead th {\n        text-align: right;\n    }\n</style>\n<table border=\"1\" class=\"dataframe\">\n  <thead>\n    <tr style=\"text-align: right;\">\n      <th></th>\n      <th>Año</th>\n      <th>Mes</th>\n      <th>tasa_mensual</th>\n    </tr>\n  </thead>\n  <tbody>\n    <tr>\n      <th>0</th>\n      <td>2019</td>\n      <td>Enero</td>\n      <td>57.578677</td>\n    </tr>\n    <tr>\n      <th>1</th>\n      <td>2019</td>\n      <td>Febrero</td>\n      <td>47.721964</td>\n    </tr>\n    <tr>\n      <th>2</th>\n      <td>2019</td>\n      <td>Marzo</td>\n      <td>61.287355</td>\n    </tr>\n    <tr>\n      <th>3</th>\n      <td>2019</td>\n      <td>Abril</td>\n      <td>68.316700</td>\n    </tr>\n    <tr>\n      <th>4</th>\n      <td>2019</td>\n      <td>Mayo</td>\n      <td>71.924129</td>\n    </tr>\n  </tbody>\n</table>\n</div>"
     },
     "execution_count": 49,
     "metadata": {},
     "output_type": "execute_result"
    }
   ],
   "source": [
    "tasa_intervencion_arg = pd.read_excel(\"tasa de intervencion-Argentina.xls\",sheet_name = \"tasa de intervencion\")\n",
    "tasa_intervencion_arg.head()"
   ],
   "metadata": {
    "collapsed": false,
    "pycharm": {
     "name": "#%%\n"
    }
   }
  },
  {
   "cell_type": "code",
   "execution_count": 50,
   "outputs": [],
   "source": [
    "index = list(zip(tasa_intervencion_arg[\"Año\"],tasa_intervencion_arg[\"Mes\"]))\n",
    "index = pd.MultiIndex.from_tuples(index)"
   ],
   "metadata": {
    "collapsed": false,
    "pycharm": {
     "name": "#%%\n"
    }
   }
  },
  {
   "cell_type": "code",
   "execution_count": 51,
   "outputs": [
    {
     "data": {
      "text/plain": "              tasa_mensual\n2019 Enero       57.578677\n     Febrero     47.721964\n     Marzo       61.287355\n     Abril       68.316700\n     Mayo        71.924129",
      "text/html": "<div>\n<style scoped>\n    .dataframe tbody tr th:only-of-type {\n        vertical-align: middle;\n    }\n\n    .dataframe tbody tr th {\n        vertical-align: top;\n    }\n\n    .dataframe thead th {\n        text-align: right;\n    }\n</style>\n<table border=\"1\" class=\"dataframe\">\n  <thead>\n    <tr style=\"text-align: right;\">\n      <th></th>\n      <th></th>\n      <th>tasa_mensual</th>\n    </tr>\n  </thead>\n  <tbody>\n    <tr>\n      <th rowspan=\"5\" valign=\"top\">2019</th>\n      <th>Enero</th>\n      <td>57.578677</td>\n    </tr>\n    <tr>\n      <th>Febrero</th>\n      <td>47.721964</td>\n    </tr>\n    <tr>\n      <th>Marzo</th>\n      <td>61.287355</td>\n    </tr>\n    <tr>\n      <th>Abril</th>\n      <td>68.316700</td>\n    </tr>\n    <tr>\n      <th>Mayo</th>\n      <td>71.924129</td>\n    </tr>\n  </tbody>\n</table>\n</div>"
     },
     "execution_count": 51,
     "metadata": {},
     "output_type": "execute_result"
    }
   ],
   "source": [
    "tasa_intervencion_arg.set_index(index, inplace=True)\n",
    "tasa_intervencion_arg.drop([\"Año\", \"Mes\"], axis=1, inplace=True)\n",
    "tasa_intervencion_arg.head()"
   ],
   "metadata": {
    "collapsed": false,
    "pycharm": {
     "name": "#%%\n"
    }
   }
  },
  {
   "cell_type": "markdown",
   "source": [
    "## Obteniendo datos Colombia:\n",
    "    * Base de datos inflación mensual por sector año 2019-2022\n",
    "    * Base de datos inflación anual por sector año 2019-2022\n",
    "    * Creación MultiIndex (Año, Mes)\n",
    "    * Tasa de intervención"
   ],
   "metadata": {
    "collapsed": false,
    "pycharm": {
     "name": "#%% md\n"
    }
   }
  },
  {
   "cell_type": "code",
   "execution_count": 52,
   "outputs": [
    {
     "data": {
      "text/plain": "    Año      Mes  nivel_general_mensual  alimentos_bebidas_no_alc_mensual  \\\n0  2019    Enero                   0.60                              1.40   \n1  2019  Febrero                   0.57                              0.23   \n2  2019    Marzo                   0.43                              0.95   \n3  2019    Abril                   0.50                              1.07   \n4  2019     Mayo                   0.31                              0.65   \n\n   alcohol_tabaco_mensual  vestimenta_mensual  vivienda_mensual  \\\n0                    0.49               -0.16              0.25   \n1                    1.05                0.08              0.27   \n2                    0.94               -0.02              0.67   \n3                    0.81                0.07              0.47   \n4                    0.79                0.29              0.43   \n\n   hogar_mensual  salud_mensual  transporte_mensual  comunicación_mensual  \\\n0           0.46           0.37                0.37                  1.44   \n1           0.39          -0.02                0.78                 -0.12   \n2           0.37           0.15                0.38                 -0.13   \n3           0.46           0.31                0.23                  0.72   \n4           0.32           0.25                0.01                 -0.06   \n\n   recreacion_mensual  educacion_mensual  restaurantes_hoteles_mensual  \\\n0                0.47               0.00                          1.15   \n1                0.53               4.48                          0.75   \n2               -0.50               0.03                         -0.03   \n3                0.33               0.09                          0.47   \n4                0.19               0.05                          0.18   \n\n   bienes_servicios_varios_mensual  \n0                             0.78  \n1                             0.57  \n2                             0.27  \n3                             0.30  \n4                             0.12  ",
      "text/html": "<div>\n<style scoped>\n    .dataframe tbody tr th:only-of-type {\n        vertical-align: middle;\n    }\n\n    .dataframe tbody tr th {\n        vertical-align: top;\n    }\n\n    .dataframe thead th {\n        text-align: right;\n    }\n</style>\n<table border=\"1\" class=\"dataframe\">\n  <thead>\n    <tr style=\"text-align: right;\">\n      <th></th>\n      <th>Año</th>\n      <th>Mes</th>\n      <th>nivel_general_mensual</th>\n      <th>alimentos_bebidas_no_alc_mensual</th>\n      <th>alcohol_tabaco_mensual</th>\n      <th>vestimenta_mensual</th>\n      <th>vivienda_mensual</th>\n      <th>hogar_mensual</th>\n      <th>salud_mensual</th>\n      <th>transporte_mensual</th>\n      <th>comunicación_mensual</th>\n      <th>recreacion_mensual</th>\n      <th>educacion_mensual</th>\n      <th>restaurantes_hoteles_mensual</th>\n      <th>bienes_servicios_varios_mensual</th>\n    </tr>\n  </thead>\n  <tbody>\n    <tr>\n      <th>0</th>\n      <td>2019</td>\n      <td>Enero</td>\n      <td>0.60</td>\n      <td>1.40</td>\n      <td>0.49</td>\n      <td>-0.16</td>\n      <td>0.25</td>\n      <td>0.46</td>\n      <td>0.37</td>\n      <td>0.37</td>\n      <td>1.44</td>\n      <td>0.47</td>\n      <td>0.00</td>\n      <td>1.15</td>\n      <td>0.78</td>\n    </tr>\n    <tr>\n      <th>1</th>\n      <td>2019</td>\n      <td>Febrero</td>\n      <td>0.57</td>\n      <td>0.23</td>\n      <td>1.05</td>\n      <td>0.08</td>\n      <td>0.27</td>\n      <td>0.39</td>\n      <td>-0.02</td>\n      <td>0.78</td>\n      <td>-0.12</td>\n      <td>0.53</td>\n      <td>4.48</td>\n      <td>0.75</td>\n      <td>0.57</td>\n    </tr>\n    <tr>\n      <th>2</th>\n      <td>2019</td>\n      <td>Marzo</td>\n      <td>0.43</td>\n      <td>0.95</td>\n      <td>0.94</td>\n      <td>-0.02</td>\n      <td>0.67</td>\n      <td>0.37</td>\n      <td>0.15</td>\n      <td>0.38</td>\n      <td>-0.13</td>\n      <td>-0.50</td>\n      <td>0.03</td>\n      <td>-0.03</td>\n      <td>0.27</td>\n    </tr>\n    <tr>\n      <th>3</th>\n      <td>2019</td>\n      <td>Abril</td>\n      <td>0.50</td>\n      <td>1.07</td>\n      <td>0.81</td>\n      <td>0.07</td>\n      <td>0.47</td>\n      <td>0.46</td>\n      <td>0.31</td>\n      <td>0.23</td>\n      <td>0.72</td>\n      <td>0.33</td>\n      <td>0.09</td>\n      <td>0.47</td>\n      <td>0.30</td>\n    </tr>\n    <tr>\n      <th>4</th>\n      <td>2019</td>\n      <td>Mayo</td>\n      <td>0.31</td>\n      <td>0.65</td>\n      <td>0.79</td>\n      <td>0.29</td>\n      <td>0.43</td>\n      <td>0.32</td>\n      <td>0.25</td>\n      <td>0.01</td>\n      <td>-0.06</td>\n      <td>0.19</td>\n      <td>0.05</td>\n      <td>0.18</td>\n      <td>0.12</td>\n    </tr>\n  </tbody>\n</table>\n</div>"
     },
     "execution_count": 52,
     "metadata": {},
     "output_type": "execute_result"
    }
   ],
   "source": [
    "inflacion_col_mensual21 = pd.read_excel(\"1.2.3.IPC_Por grupo de gasto Colombia.xlsx\", sheet_name=\"Inflacion mensual por sector 21\")\n",
    "inflacion_col_mensual21.head()"
   ],
   "metadata": {
    "collapsed": false,
    "pycharm": {
     "name": "#%%\n"
    }
   }
  },
  {
   "cell_type": "code",
   "execution_count": 53,
   "outputs": [
    {
     "data": {
      "text/plain": "              nivel_general_mensual  alimentos_bebidas_no_alc_mensual  \\\n2019 Enero                     0.60                              1.40   \n     Febrero                   0.57                              0.23   \n     Marzo                     0.43                              0.95   \n     Abril                     0.50                              1.07   \n     Mayo                      0.31                              0.65   \n\n              alcohol_tabaco_mensual  vestimenta_mensual  vivienda_mensual  \\\n2019 Enero                      0.49               -0.16              0.25   \n     Febrero                    1.05                0.08              0.27   \n     Marzo                      0.94               -0.02              0.67   \n     Abril                      0.81                0.07              0.47   \n     Mayo                       0.79                0.29              0.43   \n\n              hogar_mensual  salud_mensual  transporte_mensual  \\\n2019 Enero             0.46           0.37                0.37   \n     Febrero           0.39          -0.02                0.78   \n     Marzo             0.37           0.15                0.38   \n     Abril             0.46           0.31                0.23   \n     Mayo              0.32           0.25                0.01   \n\n              comunicación_mensual  recreacion_mensual  educacion_mensual  \\\n2019 Enero                    1.44                0.47               0.00   \n     Febrero                 -0.12                0.53               4.48   \n     Marzo                   -0.13               -0.50               0.03   \n     Abril                    0.72                0.33               0.09   \n     Mayo                    -0.06                0.19               0.05   \n\n              restaurantes_hoteles_mensual  bienes_servicios_varios_mensual  \n2019 Enero                            1.15                             0.78  \n     Febrero                          0.75                             0.57  \n     Marzo                           -0.03                             0.27  \n     Abril                            0.47                             0.30  \n     Mayo                             0.18                             0.12  ",
      "text/html": "<div>\n<style scoped>\n    .dataframe tbody tr th:only-of-type {\n        vertical-align: middle;\n    }\n\n    .dataframe tbody tr th {\n        vertical-align: top;\n    }\n\n    .dataframe thead th {\n        text-align: right;\n    }\n</style>\n<table border=\"1\" class=\"dataframe\">\n  <thead>\n    <tr style=\"text-align: right;\">\n      <th></th>\n      <th></th>\n      <th>nivel_general_mensual</th>\n      <th>alimentos_bebidas_no_alc_mensual</th>\n      <th>alcohol_tabaco_mensual</th>\n      <th>vestimenta_mensual</th>\n      <th>vivienda_mensual</th>\n      <th>hogar_mensual</th>\n      <th>salud_mensual</th>\n      <th>transporte_mensual</th>\n      <th>comunicación_mensual</th>\n      <th>recreacion_mensual</th>\n      <th>educacion_mensual</th>\n      <th>restaurantes_hoteles_mensual</th>\n      <th>bienes_servicios_varios_mensual</th>\n    </tr>\n  </thead>\n  <tbody>\n    <tr>\n      <th rowspan=\"5\" valign=\"top\">2019</th>\n      <th>Enero</th>\n      <td>0.60</td>\n      <td>1.40</td>\n      <td>0.49</td>\n      <td>-0.16</td>\n      <td>0.25</td>\n      <td>0.46</td>\n      <td>0.37</td>\n      <td>0.37</td>\n      <td>1.44</td>\n      <td>0.47</td>\n      <td>0.00</td>\n      <td>1.15</td>\n      <td>0.78</td>\n    </tr>\n    <tr>\n      <th>Febrero</th>\n      <td>0.57</td>\n      <td>0.23</td>\n      <td>1.05</td>\n      <td>0.08</td>\n      <td>0.27</td>\n      <td>0.39</td>\n      <td>-0.02</td>\n      <td>0.78</td>\n      <td>-0.12</td>\n      <td>0.53</td>\n      <td>4.48</td>\n      <td>0.75</td>\n      <td>0.57</td>\n    </tr>\n    <tr>\n      <th>Marzo</th>\n      <td>0.43</td>\n      <td>0.95</td>\n      <td>0.94</td>\n      <td>-0.02</td>\n      <td>0.67</td>\n      <td>0.37</td>\n      <td>0.15</td>\n      <td>0.38</td>\n      <td>-0.13</td>\n      <td>-0.50</td>\n      <td>0.03</td>\n      <td>-0.03</td>\n      <td>0.27</td>\n    </tr>\n    <tr>\n      <th>Abril</th>\n      <td>0.50</td>\n      <td>1.07</td>\n      <td>0.81</td>\n      <td>0.07</td>\n      <td>0.47</td>\n      <td>0.46</td>\n      <td>0.31</td>\n      <td>0.23</td>\n      <td>0.72</td>\n      <td>0.33</td>\n      <td>0.09</td>\n      <td>0.47</td>\n      <td>0.30</td>\n    </tr>\n    <tr>\n      <th>Mayo</th>\n      <td>0.31</td>\n      <td>0.65</td>\n      <td>0.79</td>\n      <td>0.29</td>\n      <td>0.43</td>\n      <td>0.32</td>\n      <td>0.25</td>\n      <td>0.01</td>\n      <td>-0.06</td>\n      <td>0.19</td>\n      <td>0.05</td>\n      <td>0.18</td>\n      <td>0.12</td>\n    </tr>\n  </tbody>\n</table>\n</div>"
     },
     "execution_count": 53,
     "metadata": {},
     "output_type": "execute_result"
    }
   ],
   "source": [
    "index = list(zip(inflacion_col_mensual21[\"Año\"], inflacion_col_mensual21[\"Mes\"]))\n",
    "index = pd.MultiIndex.from_tuples(index)\n",
    "\n",
    "\n",
    "inflacion_col_mensual21.set_index(index, inplace=True)\n",
    "inflacion_col_mensual21.drop([\"Año\", \"Mes\"], axis=1, inplace=True)\n",
    "inflacion_col_mensual21.head()"
   ],
   "metadata": {
    "collapsed": false,
    "pycharm": {
     "name": "#%%\n"
    }
   }
  },
  {
   "cell_type": "code",
   "execution_count": 54,
   "outputs": [
    {
     "data": {
      "text/plain": "    Año      Mes  nivel_general_anual  alimentos_bebidas_anual  \\\n0  2019    Enero                 3.15                      NaN   \n1  2019  Febrero                 3.01                      NaN   \n2  2019    Marzo                 3.21                      NaN   \n3  2019    Abril                 3.25                      NaN   \n4  2019     Mayo                 3.31                      NaN   \n\n   alcohol_tabaco_anual  vestimenta_anual  servicios_vivienda_anual  \\\n0                  4.03               NaN                       NaN   \n1                  3.91               NaN                       NaN   \n2                  4.37               NaN                       NaN   \n3                  4.82               NaN                       NaN   \n4                  5.12               NaN                       NaN   \n\n   hogar_anual  salud_anual  transporte_anual  comunicacion_anual  \\\n0          NaN          NaN               NaN                1.69   \n1          NaN          NaN               NaN                1.33   \n2          NaN          NaN               NaN                1.20   \n3          NaN          NaN               NaN                1.93   \n4          NaN          NaN               NaN                1.88   \n\n   recreacion_anual  educacion_anual  restaurantes_hoteles_anual  \\\n0               NaN              NaN                         NaN   \n1               NaN              NaN                         NaN   \n2               NaN              NaN                         NaN   \n3               NaN              NaN                         NaN   \n4               NaN              NaN                         NaN   \n\n   bienes_servicios_varios_anual  \n0                            NaN  \n1                            NaN  \n2                            NaN  \n3                            NaN  \n4                            NaN  ",
      "text/html": "<div>\n<style scoped>\n    .dataframe tbody tr th:only-of-type {\n        vertical-align: middle;\n    }\n\n    .dataframe tbody tr th {\n        vertical-align: top;\n    }\n\n    .dataframe thead th {\n        text-align: right;\n    }\n</style>\n<table border=\"1\" class=\"dataframe\">\n  <thead>\n    <tr style=\"text-align: right;\">\n      <th></th>\n      <th>Año</th>\n      <th>Mes</th>\n      <th>nivel_general_anual</th>\n      <th>alimentos_bebidas_anual</th>\n      <th>alcohol_tabaco_anual</th>\n      <th>vestimenta_anual</th>\n      <th>servicios_vivienda_anual</th>\n      <th>hogar_anual</th>\n      <th>salud_anual</th>\n      <th>transporte_anual</th>\n      <th>comunicacion_anual</th>\n      <th>recreacion_anual</th>\n      <th>educacion_anual</th>\n      <th>restaurantes_hoteles_anual</th>\n      <th>bienes_servicios_varios_anual</th>\n    </tr>\n  </thead>\n  <tbody>\n    <tr>\n      <th>0</th>\n      <td>2019</td>\n      <td>Enero</td>\n      <td>3.15</td>\n      <td>NaN</td>\n      <td>4.03</td>\n      <td>NaN</td>\n      <td>NaN</td>\n      <td>NaN</td>\n      <td>NaN</td>\n      <td>NaN</td>\n      <td>1.69</td>\n      <td>NaN</td>\n      <td>NaN</td>\n      <td>NaN</td>\n      <td>NaN</td>\n    </tr>\n    <tr>\n      <th>1</th>\n      <td>2019</td>\n      <td>Febrero</td>\n      <td>3.01</td>\n      <td>NaN</td>\n      <td>3.91</td>\n      <td>NaN</td>\n      <td>NaN</td>\n      <td>NaN</td>\n      <td>NaN</td>\n      <td>NaN</td>\n      <td>1.33</td>\n      <td>NaN</td>\n      <td>NaN</td>\n      <td>NaN</td>\n      <td>NaN</td>\n    </tr>\n    <tr>\n      <th>2</th>\n      <td>2019</td>\n      <td>Marzo</td>\n      <td>3.21</td>\n      <td>NaN</td>\n      <td>4.37</td>\n      <td>NaN</td>\n      <td>NaN</td>\n      <td>NaN</td>\n      <td>NaN</td>\n      <td>NaN</td>\n      <td>1.20</td>\n      <td>NaN</td>\n      <td>NaN</td>\n      <td>NaN</td>\n      <td>NaN</td>\n    </tr>\n    <tr>\n      <th>3</th>\n      <td>2019</td>\n      <td>Abril</td>\n      <td>3.25</td>\n      <td>NaN</td>\n      <td>4.82</td>\n      <td>NaN</td>\n      <td>NaN</td>\n      <td>NaN</td>\n      <td>NaN</td>\n      <td>NaN</td>\n      <td>1.93</td>\n      <td>NaN</td>\n      <td>NaN</td>\n      <td>NaN</td>\n      <td>NaN</td>\n    </tr>\n    <tr>\n      <th>4</th>\n      <td>2019</td>\n      <td>Mayo</td>\n      <td>3.31</td>\n      <td>NaN</td>\n      <td>5.12</td>\n      <td>NaN</td>\n      <td>NaN</td>\n      <td>NaN</td>\n      <td>NaN</td>\n      <td>NaN</td>\n      <td>1.88</td>\n      <td>NaN</td>\n      <td>NaN</td>\n      <td>NaN</td>\n      <td>NaN</td>\n    </tr>\n  </tbody>\n</table>\n</div>"
     },
     "execution_count": 54,
     "metadata": {},
     "output_type": "execute_result"
    }
   ],
   "source": [
    "inflacion_col_anual21 = pd.read_excel(\"1.2.3.IPC_Por grupo de gasto Colombia.xlsx\", sheet_name=\"Inflacion anual por sector 21\")\n",
    "inflacion_col_anual21.head()"
   ],
   "metadata": {
    "collapsed": false,
    "pycharm": {
     "name": "#%%\n"
    }
   }
  },
  {
   "cell_type": "code",
   "execution_count": 55,
   "outputs": [
    {
     "data": {
      "text/plain": "              nivel_general_anual  alimentos_bebidas_anual  \\\n2019 Enero                   3.15                      NaN   \n     Febrero                 3.01                      NaN   \n     Marzo                   3.21                      NaN   \n     Abril                   3.25                      NaN   \n     Mayo                    3.31                      NaN   \n\n              alcohol_tabaco_anual  vestimenta_anual  \\\n2019 Enero                    4.03               NaN   \n     Febrero                  3.91               NaN   \n     Marzo                    4.37               NaN   \n     Abril                    4.82               NaN   \n     Mayo                     5.12               NaN   \n\n              servicios_vivienda_anual  hogar_anual  salud_anual  \\\n2019 Enero                         NaN          NaN          NaN   \n     Febrero                       NaN          NaN          NaN   \n     Marzo                         NaN          NaN          NaN   \n     Abril                         NaN          NaN          NaN   \n     Mayo                          NaN          NaN          NaN   \n\n              transporte_anual  comunicacion_anual  recreacion_anual  \\\n2019 Enero                 NaN                1.69               NaN   \n     Febrero               NaN                1.33               NaN   \n     Marzo                 NaN                1.20               NaN   \n     Abril                 NaN                1.93               NaN   \n     Mayo                  NaN                1.88               NaN   \n\n              educacion_anual  restaurantes_hoteles_anual  \\\n2019 Enero                NaN                         NaN   \n     Febrero              NaN                         NaN   \n     Marzo                NaN                         NaN   \n     Abril                NaN                         NaN   \n     Mayo                 NaN                         NaN   \n\n              bienes_servicios_varios_anual  \n2019 Enero                              NaN  \n     Febrero                            NaN  \n     Marzo                              NaN  \n     Abril                              NaN  \n     Mayo                               NaN  ",
      "text/html": "<div>\n<style scoped>\n    .dataframe tbody tr th:only-of-type {\n        vertical-align: middle;\n    }\n\n    .dataframe tbody tr th {\n        vertical-align: top;\n    }\n\n    .dataframe thead th {\n        text-align: right;\n    }\n</style>\n<table border=\"1\" class=\"dataframe\">\n  <thead>\n    <tr style=\"text-align: right;\">\n      <th></th>\n      <th></th>\n      <th>nivel_general_anual</th>\n      <th>alimentos_bebidas_anual</th>\n      <th>alcohol_tabaco_anual</th>\n      <th>vestimenta_anual</th>\n      <th>servicios_vivienda_anual</th>\n      <th>hogar_anual</th>\n      <th>salud_anual</th>\n      <th>transporte_anual</th>\n      <th>comunicacion_anual</th>\n      <th>recreacion_anual</th>\n      <th>educacion_anual</th>\n      <th>restaurantes_hoteles_anual</th>\n      <th>bienes_servicios_varios_anual</th>\n    </tr>\n  </thead>\n  <tbody>\n    <tr>\n      <th rowspan=\"5\" valign=\"top\">2019</th>\n      <th>Enero</th>\n      <td>3.15</td>\n      <td>NaN</td>\n      <td>4.03</td>\n      <td>NaN</td>\n      <td>NaN</td>\n      <td>NaN</td>\n      <td>NaN</td>\n      <td>NaN</td>\n      <td>1.69</td>\n      <td>NaN</td>\n      <td>NaN</td>\n      <td>NaN</td>\n      <td>NaN</td>\n    </tr>\n    <tr>\n      <th>Febrero</th>\n      <td>3.01</td>\n      <td>NaN</td>\n      <td>3.91</td>\n      <td>NaN</td>\n      <td>NaN</td>\n      <td>NaN</td>\n      <td>NaN</td>\n      <td>NaN</td>\n      <td>1.33</td>\n      <td>NaN</td>\n      <td>NaN</td>\n      <td>NaN</td>\n      <td>NaN</td>\n    </tr>\n    <tr>\n      <th>Marzo</th>\n      <td>3.21</td>\n      <td>NaN</td>\n      <td>4.37</td>\n      <td>NaN</td>\n      <td>NaN</td>\n      <td>NaN</td>\n      <td>NaN</td>\n      <td>NaN</td>\n      <td>1.20</td>\n      <td>NaN</td>\n      <td>NaN</td>\n      <td>NaN</td>\n      <td>NaN</td>\n    </tr>\n    <tr>\n      <th>Abril</th>\n      <td>3.25</td>\n      <td>NaN</td>\n      <td>4.82</td>\n      <td>NaN</td>\n      <td>NaN</td>\n      <td>NaN</td>\n      <td>NaN</td>\n      <td>NaN</td>\n      <td>1.93</td>\n      <td>NaN</td>\n      <td>NaN</td>\n      <td>NaN</td>\n      <td>NaN</td>\n    </tr>\n    <tr>\n      <th>Mayo</th>\n      <td>3.31</td>\n      <td>NaN</td>\n      <td>5.12</td>\n      <td>NaN</td>\n      <td>NaN</td>\n      <td>NaN</td>\n      <td>NaN</td>\n      <td>NaN</td>\n      <td>1.88</td>\n      <td>NaN</td>\n      <td>NaN</td>\n      <td>NaN</td>\n      <td>NaN</td>\n    </tr>\n  </tbody>\n</table>\n</div>"
     },
     "execution_count": 55,
     "metadata": {},
     "output_type": "execute_result"
    }
   ],
   "source": [
    "index = list(zip(inflacion_col_anual21[\"Año\"], inflacion_col_anual21[\"Mes\"]))\n",
    "index = pd.MultiIndex.from_tuples(index)\n",
    "\n",
    "\n",
    "inflacion_col_anual21.set_index(index, inplace=True)\n",
    "inflacion_col_anual21.drop([\"Año\", \"Mes\"], axis=1, inplace=True)\n",
    "inflacion_col_anual21.head()"
   ],
   "metadata": {
    "collapsed": false,
    "pycharm": {
     "name": "#%%\n"
    }
   }
  },
  {
   "cell_type": "code",
   "execution_count": 56,
   "outputs": [
    {
     "data": {
      "text/plain": "    Año      Mes  tasa_mensual\n0  2019    Enero          4.25\n1  2019  Febrero          4.25\n2  2019    Marzo          4.25\n3  2019    Abril          4.25\n4  2019     Mayo          4.25",
      "text/html": "<div>\n<style scoped>\n    .dataframe tbody tr th:only-of-type {\n        vertical-align: middle;\n    }\n\n    .dataframe tbody tr th {\n        vertical-align: top;\n    }\n\n    .dataframe thead th {\n        text-align: right;\n    }\n</style>\n<table border=\"1\" class=\"dataframe\">\n  <thead>\n    <tr style=\"text-align: right;\">\n      <th></th>\n      <th>Año</th>\n      <th>Mes</th>\n      <th>tasa_mensual</th>\n    </tr>\n  </thead>\n  <tbody>\n    <tr>\n      <th>0</th>\n      <td>2019</td>\n      <td>Enero</td>\n      <td>4.25</td>\n    </tr>\n    <tr>\n      <th>1</th>\n      <td>2019</td>\n      <td>Febrero</td>\n      <td>4.25</td>\n    </tr>\n    <tr>\n      <th>2</th>\n      <td>2019</td>\n      <td>Marzo</td>\n      <td>4.25</td>\n    </tr>\n    <tr>\n      <th>3</th>\n      <td>2019</td>\n      <td>Abril</td>\n      <td>4.25</td>\n    </tr>\n    <tr>\n      <th>4</th>\n      <td>2019</td>\n      <td>Mayo</td>\n      <td>4.25</td>\n    </tr>\n  </tbody>\n</table>\n</div>"
     },
     "execution_count": 56,
     "metadata": {},
     "output_type": "execute_result"
    }
   ],
   "source": [
    "tasa_intervencion_col = pd.read_excel(\"tasa de intervencion-Colombia.xlsx\", sheet_name= \"tasa de intervencion\")\n",
    "tasa_intervencion_col.head()"
   ],
   "metadata": {
    "collapsed": false,
    "pycharm": {
     "name": "#%%\n"
    }
   }
  },
  {
   "cell_type": "code",
   "execution_count": 57,
   "outputs": [
    {
     "data": {
      "text/plain": "              tasa_mensual\n2019 Enero            4.25\n     Febrero          4.25\n     Marzo            4.25\n     Abril            4.25\n     Mayo             4.25",
      "text/html": "<div>\n<style scoped>\n    .dataframe tbody tr th:only-of-type {\n        vertical-align: middle;\n    }\n\n    .dataframe tbody tr th {\n        vertical-align: top;\n    }\n\n    .dataframe thead th {\n        text-align: right;\n    }\n</style>\n<table border=\"1\" class=\"dataframe\">\n  <thead>\n    <tr style=\"text-align: right;\">\n      <th></th>\n      <th></th>\n      <th>tasa_mensual</th>\n    </tr>\n  </thead>\n  <tbody>\n    <tr>\n      <th rowspan=\"5\" valign=\"top\">2019</th>\n      <th>Enero</th>\n      <td>4.25</td>\n    </tr>\n    <tr>\n      <th>Febrero</th>\n      <td>4.25</td>\n    </tr>\n    <tr>\n      <th>Marzo</th>\n      <td>4.25</td>\n    </tr>\n    <tr>\n      <th>Abril</th>\n      <td>4.25</td>\n    </tr>\n    <tr>\n      <th>Mayo</th>\n      <td>4.25</td>\n    </tr>\n  </tbody>\n</table>\n</div>"
     },
     "execution_count": 57,
     "metadata": {},
     "output_type": "execute_result"
    }
   ],
   "source": [
    "index = list(zip(tasa_intervencion_col[\"Año\"], tasa_intervencion_col[\"Mes\"]))\n",
    "index = pd.MultiIndex.from_tuples(index)\n",
    "\n",
    "\n",
    "tasa_intervencion_col.set_index(index, inplace=True)\n",
    "tasa_intervencion_col.drop([\"Año\", \"Mes\"], axis=1, inplace=True)\n",
    "tasa_intervencion_col.head()"
   ],
   "metadata": {
    "collapsed": false,
    "pycharm": {
     "name": "#%%\n"
    }
   }
  },
  {
   "cell_type": "markdown",
   "source": [
    "## Uniendo los datos\n",
    "\n",
    "La unión se va a realizar por país, usando como llave el MultiIndex Año, Mes"
   ],
   "metadata": {
    "collapsed": false,
    "pycharm": {
     "name": "#%% md\n"
    }
   }
  },
  {
   "cell_type": "code",
   "execution_count": 63,
   "outputs": [
    {
     "data": {
      "text/plain": "              nivel_general_mensual  alimentos_bebidas_no_alc_mensual  \\\n2019 Enero                      2.9                               3.4   \n     Febrero                    3.8                               5.7   \n     Marzo                      4.7                               6.0   \n     Abril                      3.4                               2.5   \n     Mayo                       3.1                               2.4   \n\n              alcohol_tabaco_mensual  vestimenta_mensual  vivienda_mensual  \\\n2019 Enero                       3.5                -0.6               3.1   \n     Febrero                     2.4                 1.0               6.4   \n     Marzo                       4.1                 6.6               2.8   \n     Abril                       1.0                 6.2               2.9   \n     Mayo                        2.2                 3.4               4.0   \n\n              hogar_mensual  salud_mensual  transporte_mensual  \\\n2019 Enero              2.7            2.9                 2.5   \n     Febrero            2.8            3.2                 2.2   \n     Marzo              3.8            3.2                 4.2   \n     Abril              4.6            3.5                 4.4   \n     Mayo               3.2            5.1                 3.5   \n\n              comunicación_mensual  recreacion_mensual  ...  \\\n2019 Enero                     7.4                 3.5  ...   \n     Febrero                   1.1                 2.2  ...   \n     Marzo                     4.4                 2.0  ...   \n     Abril                     3.5                 3.2  ...   \n     Mayo                      2.0                 2.4  ...   \n\n              servicios_vivienda_anual  hogar_anual  salud_anual  \\\n2019 Enero                        48.7         52.5         51.9   \n     Febrero                      52.4         54.0         53.1   \n     Marzo                        55.8         52.9         56.0   \n     Abril                        48.5         58.0         58.7   \n     Mayo                         55.5         59.6         63.1   \n\n              transporte_anual  comunicacion_anual  recreacion_anual  \\\n2019 Enero                67.3                63.7              43.5   \n     Febrero              63.6                51.7              45.2   \n     Marzo                67.5                54.1              46.3   \n     Abril                68.0                57.8              48.1   \n     Mayo                 70.6                54.9              48.0   \n\n              educacion_anual  restaurantes_hoteles_anual  \\\n2019 Enero               32.1                        40.1   \n     Febrero             31.8                        42.2   \n     Marzo               36.5                        45.8   \n     Abril               37.5                        48.4   \n     Mayo                40.8                        48.1   \n\n              bienes_servicios_varios_anual  tasa_mensual  \n2019 Enero                             55.1     57.578677  \n     Febrero                           57.1     47.721964  \n     Marzo                             59.0     61.287355  \n     Abril                             61.0     68.316700  \n     Mayo                              62.3     71.924129  \n\n[5 rows x 27 columns]",
      "text/html": "<div>\n<style scoped>\n    .dataframe tbody tr th:only-of-type {\n        vertical-align: middle;\n    }\n\n    .dataframe tbody tr th {\n        vertical-align: top;\n    }\n\n    .dataframe thead th {\n        text-align: right;\n    }\n</style>\n<table border=\"1\" class=\"dataframe\">\n  <thead>\n    <tr style=\"text-align: right;\">\n      <th></th>\n      <th></th>\n      <th>nivel_general_mensual</th>\n      <th>alimentos_bebidas_no_alc_mensual</th>\n      <th>alcohol_tabaco_mensual</th>\n      <th>vestimenta_mensual</th>\n      <th>vivienda_mensual</th>\n      <th>hogar_mensual</th>\n      <th>salud_mensual</th>\n      <th>transporte_mensual</th>\n      <th>comunicación_mensual</th>\n      <th>recreacion_mensual</th>\n      <th>...</th>\n      <th>servicios_vivienda_anual</th>\n      <th>hogar_anual</th>\n      <th>salud_anual</th>\n      <th>transporte_anual</th>\n      <th>comunicacion_anual</th>\n      <th>recreacion_anual</th>\n      <th>educacion_anual</th>\n      <th>restaurantes_hoteles_anual</th>\n      <th>bienes_servicios_varios_anual</th>\n      <th>tasa_mensual</th>\n    </tr>\n  </thead>\n  <tbody>\n    <tr>\n      <th rowspan=\"5\" valign=\"top\">2019</th>\n      <th>Enero</th>\n      <td>2.9</td>\n      <td>3.4</td>\n      <td>3.5</td>\n      <td>-0.6</td>\n      <td>3.1</td>\n      <td>2.7</td>\n      <td>2.9</td>\n      <td>2.5</td>\n      <td>7.4</td>\n      <td>3.5</td>\n      <td>...</td>\n      <td>48.7</td>\n      <td>52.5</td>\n      <td>51.9</td>\n      <td>67.3</td>\n      <td>63.7</td>\n      <td>43.5</td>\n      <td>32.1</td>\n      <td>40.1</td>\n      <td>55.1</td>\n      <td>57.578677</td>\n    </tr>\n    <tr>\n      <th>Febrero</th>\n      <td>3.8</td>\n      <td>5.7</td>\n      <td>2.4</td>\n      <td>1.0</td>\n      <td>6.4</td>\n      <td>2.8</td>\n      <td>3.2</td>\n      <td>2.2</td>\n      <td>1.1</td>\n      <td>2.2</td>\n      <td>...</td>\n      <td>52.4</td>\n      <td>54.0</td>\n      <td>53.1</td>\n      <td>63.6</td>\n      <td>51.7</td>\n      <td>45.2</td>\n      <td>31.8</td>\n      <td>42.2</td>\n      <td>57.1</td>\n      <td>47.721964</td>\n    </tr>\n    <tr>\n      <th>Marzo</th>\n      <td>4.7</td>\n      <td>6.0</td>\n      <td>4.1</td>\n      <td>6.6</td>\n      <td>2.8</td>\n      <td>3.8</td>\n      <td>3.2</td>\n      <td>4.2</td>\n      <td>4.4</td>\n      <td>2.0</td>\n      <td>...</td>\n      <td>55.8</td>\n      <td>52.9</td>\n      <td>56.0</td>\n      <td>67.5</td>\n      <td>54.1</td>\n      <td>46.3</td>\n      <td>36.5</td>\n      <td>45.8</td>\n      <td>59.0</td>\n      <td>61.287355</td>\n    </tr>\n    <tr>\n      <th>Abril</th>\n      <td>3.4</td>\n      <td>2.5</td>\n      <td>1.0</td>\n      <td>6.2</td>\n      <td>2.9</td>\n      <td>4.6</td>\n      <td>3.5</td>\n      <td>4.4</td>\n      <td>3.5</td>\n      <td>3.2</td>\n      <td>...</td>\n      <td>48.5</td>\n      <td>58.0</td>\n      <td>58.7</td>\n      <td>68.0</td>\n      <td>57.8</td>\n      <td>48.1</td>\n      <td>37.5</td>\n      <td>48.4</td>\n      <td>61.0</td>\n      <td>68.316700</td>\n    </tr>\n    <tr>\n      <th>Mayo</th>\n      <td>3.1</td>\n      <td>2.4</td>\n      <td>2.2</td>\n      <td>3.4</td>\n      <td>4.0</td>\n      <td>3.2</td>\n      <td>5.1</td>\n      <td>3.5</td>\n      <td>2.0</td>\n      <td>2.4</td>\n      <td>...</td>\n      <td>55.5</td>\n      <td>59.6</td>\n      <td>63.1</td>\n      <td>70.6</td>\n      <td>54.9</td>\n      <td>48.0</td>\n      <td>40.8</td>\n      <td>48.1</td>\n      <td>62.3</td>\n      <td>71.924129</td>\n    </tr>\n  </tbody>\n</table>\n<p>5 rows × 27 columns</p>\n</div>"
     },
     "execution_count": 63,
     "metadata": {},
     "output_type": "execute_result"
    }
   ],
   "source": [
    "info_arg = inflacion_arg_men.join(inflacion_arg_anual, how = 'inner').join(tasa_intervencion_arg, how='inner')\n",
    "info_arg.head()"
   ],
   "metadata": {
    "collapsed": false,
    "pycharm": {
     "name": "#%%\n"
    }
   }
  },
  {
   "cell_type": "code",
   "execution_count": 65,
   "outputs": [
    {
     "data": {
      "text/plain": "              nivel_general_mensual  alimentos_bebidas_no_alc_mensual  \\\n2019 Enero                     0.60                              1.40   \n     Febrero                   0.57                              0.23   \n     Marzo                     0.43                              0.95   \n     Abril                     0.50                              1.07   \n     Mayo                      0.31                              0.65   \n\n              alcohol_tabaco_mensual  vestimenta_mensual  vivienda_mensual  \\\n2019 Enero                      0.49               -0.16              0.25   \n     Febrero                    1.05                0.08              0.27   \n     Marzo                      0.94               -0.02              0.67   \n     Abril                      0.81                0.07              0.47   \n     Mayo                       0.79                0.29              0.43   \n\n              hogar_mensual  salud_mensual  transporte_mensual  \\\n2019 Enero             0.46           0.37                0.37   \n     Febrero           0.39          -0.02                0.78   \n     Marzo             0.37           0.15                0.38   \n     Abril             0.46           0.31                0.23   \n     Mayo              0.32           0.25                0.01   \n\n              comunicación_mensual  recreacion_mensual  ...  \\\n2019 Enero                    1.44                0.47  ...   \n     Febrero                 -0.12                0.53  ...   \n     Marzo                   -0.13               -0.50  ...   \n     Abril                    0.72                0.33  ...   \n     Mayo                    -0.06                0.19  ...   \n\n              servicios_vivienda_anual  hogar_anual  salud_anual  \\\n2019 Enero                         NaN          NaN          NaN   \n     Febrero                       NaN          NaN          NaN   \n     Marzo                         NaN          NaN          NaN   \n     Abril                         NaN          NaN          NaN   \n     Mayo                          NaN          NaN          NaN   \n\n              transporte_anual  comunicacion_anual  recreacion_anual  \\\n2019 Enero                 NaN                1.69               NaN   \n     Febrero               NaN                1.33               NaN   \n     Marzo                 NaN                1.20               NaN   \n     Abril                 NaN                1.93               NaN   \n     Mayo                  NaN                1.88               NaN   \n\n              educacion_anual  restaurantes_hoteles_anual  \\\n2019 Enero                NaN                         NaN   \n     Febrero              NaN                         NaN   \n     Marzo                NaN                         NaN   \n     Abril                NaN                         NaN   \n     Mayo                 NaN                         NaN   \n\n              bienes_servicios_varios_anual  tasa_mensual  \n2019 Enero                              NaN          4.25  \n     Febrero                            NaN          4.25  \n     Marzo                              NaN          4.25  \n     Abril                              NaN          4.25  \n     Mayo                               NaN          4.25  \n\n[5 rows x 27 columns]",
      "text/html": "<div>\n<style scoped>\n    .dataframe tbody tr th:only-of-type {\n        vertical-align: middle;\n    }\n\n    .dataframe tbody tr th {\n        vertical-align: top;\n    }\n\n    .dataframe thead th {\n        text-align: right;\n    }\n</style>\n<table border=\"1\" class=\"dataframe\">\n  <thead>\n    <tr style=\"text-align: right;\">\n      <th></th>\n      <th></th>\n      <th>nivel_general_mensual</th>\n      <th>alimentos_bebidas_no_alc_mensual</th>\n      <th>alcohol_tabaco_mensual</th>\n      <th>vestimenta_mensual</th>\n      <th>vivienda_mensual</th>\n      <th>hogar_mensual</th>\n      <th>salud_mensual</th>\n      <th>transporte_mensual</th>\n      <th>comunicación_mensual</th>\n      <th>recreacion_mensual</th>\n      <th>...</th>\n      <th>servicios_vivienda_anual</th>\n      <th>hogar_anual</th>\n      <th>salud_anual</th>\n      <th>transporte_anual</th>\n      <th>comunicacion_anual</th>\n      <th>recreacion_anual</th>\n      <th>educacion_anual</th>\n      <th>restaurantes_hoteles_anual</th>\n      <th>bienes_servicios_varios_anual</th>\n      <th>tasa_mensual</th>\n    </tr>\n  </thead>\n  <tbody>\n    <tr>\n      <th rowspan=\"5\" valign=\"top\">2019</th>\n      <th>Enero</th>\n      <td>0.60</td>\n      <td>1.40</td>\n      <td>0.49</td>\n      <td>-0.16</td>\n      <td>0.25</td>\n      <td>0.46</td>\n      <td>0.37</td>\n      <td>0.37</td>\n      <td>1.44</td>\n      <td>0.47</td>\n      <td>...</td>\n      <td>NaN</td>\n      <td>NaN</td>\n      <td>NaN</td>\n      <td>NaN</td>\n      <td>1.69</td>\n      <td>NaN</td>\n      <td>NaN</td>\n      <td>NaN</td>\n      <td>NaN</td>\n      <td>4.25</td>\n    </tr>\n    <tr>\n      <th>Febrero</th>\n      <td>0.57</td>\n      <td>0.23</td>\n      <td>1.05</td>\n      <td>0.08</td>\n      <td>0.27</td>\n      <td>0.39</td>\n      <td>-0.02</td>\n      <td>0.78</td>\n      <td>-0.12</td>\n      <td>0.53</td>\n      <td>...</td>\n      <td>NaN</td>\n      <td>NaN</td>\n      <td>NaN</td>\n      <td>NaN</td>\n      <td>1.33</td>\n      <td>NaN</td>\n      <td>NaN</td>\n      <td>NaN</td>\n      <td>NaN</td>\n      <td>4.25</td>\n    </tr>\n    <tr>\n      <th>Marzo</th>\n      <td>0.43</td>\n      <td>0.95</td>\n      <td>0.94</td>\n      <td>-0.02</td>\n      <td>0.67</td>\n      <td>0.37</td>\n      <td>0.15</td>\n      <td>0.38</td>\n      <td>-0.13</td>\n      <td>-0.50</td>\n      <td>...</td>\n      <td>NaN</td>\n      <td>NaN</td>\n      <td>NaN</td>\n      <td>NaN</td>\n      <td>1.20</td>\n      <td>NaN</td>\n      <td>NaN</td>\n      <td>NaN</td>\n      <td>NaN</td>\n      <td>4.25</td>\n    </tr>\n    <tr>\n      <th>Abril</th>\n      <td>0.50</td>\n      <td>1.07</td>\n      <td>0.81</td>\n      <td>0.07</td>\n      <td>0.47</td>\n      <td>0.46</td>\n      <td>0.31</td>\n      <td>0.23</td>\n      <td>0.72</td>\n      <td>0.33</td>\n      <td>...</td>\n      <td>NaN</td>\n      <td>NaN</td>\n      <td>NaN</td>\n      <td>NaN</td>\n      <td>1.93</td>\n      <td>NaN</td>\n      <td>NaN</td>\n      <td>NaN</td>\n      <td>NaN</td>\n      <td>4.25</td>\n    </tr>\n    <tr>\n      <th>Mayo</th>\n      <td>0.31</td>\n      <td>0.65</td>\n      <td>0.79</td>\n      <td>0.29</td>\n      <td>0.43</td>\n      <td>0.32</td>\n      <td>0.25</td>\n      <td>0.01</td>\n      <td>-0.06</td>\n      <td>0.19</td>\n      <td>...</td>\n      <td>NaN</td>\n      <td>NaN</td>\n      <td>NaN</td>\n      <td>NaN</td>\n      <td>1.88</td>\n      <td>NaN</td>\n      <td>NaN</td>\n      <td>NaN</td>\n      <td>NaN</td>\n      <td>4.25</td>\n    </tr>\n  </tbody>\n</table>\n<p>5 rows × 27 columns</p>\n</div>"
     },
     "execution_count": 65,
     "metadata": {},
     "output_type": "execute_result"
    }
   ],
   "source": [
    "info_col = inflacion_col_mensual21.join(inflacion_col_anual21, how = 'inner').join(tasa_intervencion_col, how = 'inner')\n",
    "info_col.head()"
   ],
   "metadata": {
    "collapsed": false,
    "pycharm": {
     "name": "#%%\n"
    }
   }
  },
  {
   "cell_type": "code",
   "execution_count": 68,
   "outputs": [
    {
     "name": "stdout",
     "output_type": "stream",
     "text": [
      "Media del nivel_general_anual de Argentina: 48.18648648648649\n",
      "Mediana del nivel_general_anual de Argentina: 50.5\n",
      "Moda del nivel_general_anual de Argentina: 55.8\n",
      "Media del nivel_general_anual de Colombia: 3.2840540540540544\n",
      "Mediana del nivel_general_anual de Colombia: 3.43\n",
      "Moda del nivel_general_anual de Colombia: 3.86\n"
     ]
    }
   ],
   "source": [
    "from statistics import mode\n",
    "\n",
    "indicador = input(\"Indicador a calcular: \")\n",
    "\n",
    "print(f\"Media del {indicador} de Argentina:\", np.mean(info_arg[indicador]))\n",
    "print(f\"Mediana del {indicador} de Argentina:\", np.median(info_arg[indicador]))\n",
    "print(f\"Moda del {indicador} de Argentina:\", mode(info_arg[indicador]))\n",
    "\n",
    "\n",
    "print(f\"Media del {indicador} de Colombia:\", np.mean(info_col[indicador]))\n",
    "print(f\"Mediana del {indicador} de Colombia:\", np.median(info_col[indicador]))\n",
    "print(f\"Moda del {indicador} de Colombia:\", mode(info_col[indicador]))"
   ],
   "metadata": {
    "collapsed": false,
    "pycharm": {
     "name": "#%%\n"
    }
   }
  },
  {
   "cell_type": "code",
   "execution_count": null,
   "outputs": [],
   "source": [],
   "metadata": {
    "collapsed": false,
    "pycharm": {
     "name": "#%%\n"
    }
   }
  }
 ],
 "metadata": {
  "kernelspec": {
   "display_name": "Python 3",
   "language": "python",
   "name": "python3"
  },
  "language_info": {
   "codemirror_mode": {
    "name": "ipython",
    "version": 2
   },
   "file_extension": ".py",
   "mimetype": "text/x-python",
   "name": "python",
   "nbconvert_exporter": "python",
   "pygments_lexer": "ipython2",
   "version": "2.7.6"
  }
 },
 "nbformat": 4,
 "nbformat_minor": 0
}